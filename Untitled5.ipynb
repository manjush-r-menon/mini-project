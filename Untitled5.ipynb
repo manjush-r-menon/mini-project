{
  "nbformat": 4,
  "nbformat_minor": 0,
  "metadata": {
    "colab": {
      "name": "Untitled5.ipynb",
      "provenance": [],
      "mount_file_id": "1RwT50Dg14c6mD2o6A4zOf6BSp5YfePJ9",
      "authorship_tag": "ABX9TyN7vwg2sTRIkYfaqbUIXVwC",
      "include_colab_link": true
    },
    "kernelspec": {
      "name": "python3",
      "display_name": "Python 3"
    },
    "language_info": {
      "name": "python"
    }
  },
  "cells": [
    {
      "cell_type": "markdown",
      "metadata": {
        "id": "view-in-github",
        "colab_type": "text"
      },
      "source": [
        "<a href=\"https://colab.research.google.com/github/manjush-r-menon/mini-project/blob/main/Untitled5.ipynb\" target=\"_parent\"><img src=\"https://colab.research.google.com/assets/colab-badge.svg\" alt=\"Open In Colab\"/></a>"
      ]
    },
    {
      "cell_type": "code",
      "metadata": {
        "colab": {
          "base_uri": "https://localhost:8080/"
        },
        "id": "ni3Cn5e1whvN",
        "outputId": "0e36d152-4f73-4080-ee69-3e192a030930"
      },
      "source": [
        "!pip install ipython-autotime\n",
        "%load_ext autotime"
      ],
      "execution_count": 1,
      "outputs": [
        {
          "output_type": "stream",
          "text": [
            "Collecting ipython-autotime\n",
            "  Downloading https://files.pythonhosted.org/packages/b4/c9/b413a24f759641bc27ef98c144b590023c8038dfb8a3f09e713e9dff12c1/ipython_autotime-0.3.1-py2.py3-none-any.whl\n",
            "Requirement already satisfied: ipython in /usr/local/lib/python3.7/dist-packages (from ipython-autotime) (5.5.0)\n",
            "Requirement already satisfied: prompt-toolkit<2.0.0,>=1.0.4 in /usr/local/lib/python3.7/dist-packages (from ipython->ipython-autotime) (1.0.18)\n",
            "Requirement already satisfied: simplegeneric>0.8 in /usr/local/lib/python3.7/dist-packages (from ipython->ipython-autotime) (0.8.1)\n",
            "Requirement already satisfied: pygments in /usr/local/lib/python3.7/dist-packages (from ipython->ipython-autotime) (2.6.1)\n",
            "Requirement already satisfied: traitlets>=4.2 in /usr/local/lib/python3.7/dist-packages (from ipython->ipython-autotime) (5.0.5)\n",
            "Requirement already satisfied: pickleshare in /usr/local/lib/python3.7/dist-packages (from ipython->ipython-autotime) (0.7.5)\n",
            "Requirement already satisfied: decorator in /usr/local/lib/python3.7/dist-packages (from ipython->ipython-autotime) (4.4.2)\n",
            "Requirement already satisfied: pexpect; sys_platform != \"win32\" in /usr/local/lib/python3.7/dist-packages (from ipython->ipython-autotime) (4.8.0)\n",
            "Requirement already satisfied: setuptools>=18.5 in /usr/local/lib/python3.7/dist-packages (from ipython->ipython-autotime) (57.0.0)\n",
            "Requirement already satisfied: six>=1.9.0 in /usr/local/lib/python3.7/dist-packages (from prompt-toolkit<2.0.0,>=1.0.4->ipython->ipython-autotime) (1.15.0)\n",
            "Requirement already satisfied: wcwidth in /usr/local/lib/python3.7/dist-packages (from prompt-toolkit<2.0.0,>=1.0.4->ipython->ipython-autotime) (0.2.5)\n",
            "Requirement already satisfied: ipython-genutils in /usr/local/lib/python3.7/dist-packages (from traitlets>=4.2->ipython->ipython-autotime) (0.2.0)\n",
            "Requirement already satisfied: ptyprocess>=0.5 in /usr/local/lib/python3.7/dist-packages (from pexpect; sys_platform != \"win32\"->ipython->ipython-autotime) (0.7.0)\n",
            "Installing collected packages: ipython-autotime\n",
            "Successfully installed ipython-autotime-0.3.1\n",
            "time: 2.58 ms (started: 2021-06-19 05:37:42 +00:00)\n"
          ],
          "name": "stdout"
        }
      ]
    },
    {
      "cell_type": "code",
      "metadata": {
        "colab": {
          "base_uri": "https://localhost:8080/"
        },
        "id": "LVxG9YtQwnq5",
        "outputId": "aa6a3140-1e48-4643-fe15-b91806418ab7"
      },
      "source": [
        "\n",
        "!pip install bing-image-downloader"
      ],
      "execution_count": 2,
      "outputs": [
        {
          "output_type": "stream",
          "text": [
            "Collecting bing-image-downloader\n",
            "  Downloading https://files.pythonhosted.org/packages/2c/f9/e827c690d0df1ec2f2f27cf0fb3d1f944c5c56253f8d3750ccaff051b3d3/bing_image_downloader-1.1.0-py3-none-any.whl\n",
            "Installing collected packages: bing-image-downloader\n",
            "Successfully installed bing-image-downloader-1.1.0\n",
            "time: 2.63 s (started: 2021-06-19 05:37:55 +00:00)\n"
          ],
          "name": "stdout"
        }
      ]
    },
    {
      "cell_type": "code",
      "metadata": {
        "colab": {
          "base_uri": "https://localhost:8080/"
        },
        "id": "tjj0seh5wqPN",
        "outputId": "8056b635-7d59-47a7-b7b6-14bb1d632bf5"
      },
      "source": [
        "!mkdir images"
      ],
      "execution_count": 3,
      "outputs": [
        {
          "output_type": "stream",
          "text": [
            "time: 121 ms (started: 2021-06-19 05:38:04 +00:00)\n"
          ],
          "name": "stdout"
        }
      ]
    },
    {
      "cell_type": "code",
      "metadata": {
        "colab": {
          "base_uri": "https://localhost:8080/"
        },
        "id": "Bdc090RrwtOo",
        "outputId": "6d2f357c-7165-41db-ba72-939b2a6ac7d7"
      },
      "source": [
        "from bing_image_downloader import downloader\n",
        "downloader.download(\"roses\", limit=30,output_dir='images',\n",
        "                    adult_filter_off= True)"
      ],
      "execution_count": 4,
      "outputs": [
        {
          "output_type": "stream",
          "text": [
            "[%] Downloading Images to /content/images/roses\n",
            "\n",
            "\n",
            "[!!]Indexing page: 1\n",
            "\n",
            "[%] Indexed 30 Images on Page 1.\n",
            "\n",
            "===============================================\n",
            "\n",
            "[%] Downloading Image #1 from https://altmanplants.com/wp-content/uploads/True-Gratitude-1.jpg\n",
            "[%] File Downloaded !\n",
            "\n",
            "[%] Downloading Image #2 from https://res.cloudinary.com/bloomnation/c_pad,d_vendor:global:catalog:product:image.png,f_auto,fl_preserve_transparency,q_auto/v1582065462/vendor/2961/catalog/product/2/0/20150124123713_file_54c391f9051a6.jpg\n",
            "[%] File Downloaded !\n",
            "\n",
            "[%] Downloading Image #3 from https://i.pinimg.com/originals/b6/a9/95/b6a995f047f1e4447b6d4678f085cd19.jpg\n",
            "[%] File Downloaded !\n",
            "\n",
            "[%] Downloading Image #4 from http://www.natureserve.org/sites/default/files/kelly_marcum_flickr_pricklyrose.jpg\n",
            "[%] File Downloaded !\n",
            "\n",
            "[%] Downloading Image #5 from https://i.pinimg.com/originals/43/75/5c/43755cc23d594b0fa00fed74f6d30839.jpg\n",
            "[%] File Downloaded !\n",
            "\n",
            "[%] Downloading Image #6 from https://asset.bloomnation.com/c_pad,d_vendor:global:catalog:product:image.png,f_auto,fl_preserve_transparency,q_auto/v1612568092/vendor/4799/catalog/product/m/y/my_true_love_bouquet_with_long_stemmed_roses_18_1_2_1_34_1_10.jpg\n",
            "[%] File Downloaded !\n",
            "\n",
            "[%] Downloading Image #7 from https://arrayofgifts.com/wp-content/uploads/2018/11/True-Love-Hot-Pink-Roses-Houston-Tx-Florist-Valentine-Flowers-Delivery-scaled.jpg\n",
            "[Error]Invalid image, not saving https://arrayofgifts.com/wp-content/uploads/2018/11/True-Love-Hot-Pink-Roses-Houston-Tx-Florist-Valentine-Flowers-Delivery-scaled.jpg\n",
            "\n",
            "[!] Issue getting: https://arrayofgifts.com/wp-content/uploads/2018/11/True-Love-Hot-Pink-Roses-Houston-Tx-Florist-Valentine-Flowers-Delivery-scaled.jpg\n",
            "[!] Error:: Invalid image, not saving https://arrayofgifts.com/wp-content/uploads/2018/11/True-Love-Hot-Pink-Roses-Houston-Tx-Florist-Valentine-Flowers-Delivery-scaled.jpg\n",
            "\n",
            "[%] Downloading Image #7 from https://i.pinimg.com/originals/cf/3c/86/cf3c8648e81c5c30f90072c013d608c3.jpg\n",
            "[%] File Downloaded !\n",
            "\n",
            "[%] Downloading Image #8 from https://cdn.shopify.com/s/files/1/2520/3892/products/WeChat_Image_20190122221148_530x@2x.jpg?v=1556692226\n",
            "[%] File Downloaded !\n",
            "\n",
            "[%] Downloading Image #9 from https://arrayofgifts.com/wp-content/uploads/2018/11/True-Love-Light-Pink-Hot-Pink-Roses-Houston-Pearland-Tx-Florist-Valentine-Flowers-Delivery-scaled.jpg\n",
            "[Error]Invalid image, not saving https://arrayofgifts.com/wp-content/uploads/2018/11/True-Love-Light-Pink-Hot-Pink-Roses-Houston-Pearland-Tx-Florist-Valentine-Flowers-Delivery-scaled.jpg\n",
            "\n",
            "[!] Issue getting: https://arrayofgifts.com/wp-content/uploads/2018/11/True-Love-Light-Pink-Hot-Pink-Roses-Houston-Pearland-Tx-Florist-Valentine-Flowers-Delivery-scaled.jpg\n",
            "[!] Error:: Invalid image, not saving https://arrayofgifts.com/wp-content/uploads/2018/11/True-Love-Light-Pink-Hot-Pink-Roses-Houston-Pearland-Tx-Florist-Valentine-Flowers-Delivery-scaled.jpg\n",
            "\n",
            "[%] Downloading Image #9 from https://res.cloudinary.com/bloomnation/c_pad,d_vendor:global:catalog:product:image.png,f_auto,fl_preserve_transparency,q_auto/v1550984932/vendor/3939/catalog/product/2/0/20190128072704_file_5c4f5788c8a34.jpg\n",
            "[%] File Downloaded !\n",
            "\n",
            "[%] Downloading Image #10 from https://cdn.shopify.com/s/files/1/0012/4832/9781/products/50_red_roses.jpg?v=1566932952\n",
            "[%] File Downloaded !\n",
            "\n",
            "[%] Downloading Image #11 from https://asset.bloomnation.com/c_pad,d_vendor:global:catalog:product:image.png,f_auto,fl_preserve_transparency,q_auto/v1599308720/vendor/6617/catalog/product/2/0/20180705044125_file_5b3e4a3572d33.jpg\n",
            "[%] File Downloaded !\n",
            "\n",
            "[%] Downloading Image #12 from https://carithers.imgix.net/images/item/TrueRomanceRoseswithbackground-18103032009.png?w=950&amp;auto=format\n",
            "[%] File Downloaded !\n",
            "\n",
            "[%] Downloading Image #13 from https://www.terrafolia.ca/media/catalog/product/cache/1/image/650x/040ec09b1e35df139433887a97daa66f/t/r/true_romance_roses_pm_l.jpg\n",
            "[%] File Downloaded !\n",
            "\n",
            "[%] Downloading Image #14 from https://www.thetruespoon.com/wp-content/uploads/2015/02/Magenta-roses-.jpg\n",
            "[%] File Downloaded !\n",
            "\n",
            "[%] Downloading Image #15 from https://www.florabundance.com/wp-content/uploads/2018/03/True-Love.jpg\n",
            "[%] File Downloaded !\n",
            "\n",
            "[%] Downloading Image #16 from http://www.natureserve.org/sites/default/files/etsu_rosamultiflora.jpg\n",
            "[%] File Downloaded !\n",
            "\n",
            "[%] Downloading Image #17 from https://cdn1.bigcommerce.com/server1900/96246/products/1346/images/1877/TEV31-2B__51991.1412913903.800.800.jpg?c=2\n",
            "[%] File Downloaded !\n",
            "\n",
            "[%] Downloading Image #18 from http://www.botanus.com/product_images/f/732/90016_DreamComeTrue2__01955_zoom.jpg\n",
            "[%] File Downloaded !\n",
            "\n",
            "[%] Downloading Image #19 from https://i1.wp.com/therosetable.com/wp-content/uploads/2012/09/photo-2-87.jpg\n",
            "[%] File Downloaded !\n",
            "\n",
            "[%] Downloading Image #20 from https://www.terrafolia.ca/media/catalog/product/cache/1/image/650x/040ec09b1e35df139433887a97daa66f/t/r/true_romance_roses_sd_l.jpg\n",
            "[%] File Downloaded !\n",
            "\n",
            "[%] Downloading Image #21 from https://i.pinimg.com/originals/72/b6/35/72b6356158b067cff017c83a1a60cef1.jpg\n",
            "[%] File Downloaded !\n",
            "\n",
            "[%] Downloading Image #22 from https://asset.bloomnation.com/c_limit,d_vendor:global:catalog:product:image.png,f_auto,fl_preserve_transparency,q_auto/v1535581277/vendor/320/catalog/product/2/0/20170406012316_file_58e64144dd21f.jpg\n",
            "[%] File Downloaded !\n",
            "\n",
            "[%] Downloading Image #23 from https://i.pinimg.com/originals/70/77/9b/70779bad78edfd47aa12f802b5c6563d.jpg\n",
            "[%] File Downloaded !\n",
            "\n",
            "[%] Downloading Image #24 from https://cdn.shopify.com/s/files/1/0012/4832/9781/products/50_red_roses_1.jpg?v=1566933976\n",
            "[%] File Downloaded !\n",
            "\n",
            "[%] Downloading Image #25 from https://bestflowerdelivery.co.uk/wp-content/uploads/2020/05/True-Romance-12-Red-Roses.jpg\n",
            "[%] File Downloaded !\n",
            "\n",
            "[%] Downloading Image #26 from http://1.bp.blogspot.com/-oX8muCBIGsE/Tzla9pLe8tI/AAAAAAAABgc/MOugAmeh77M/s1600/special_pink_roses-wide.jpg\n",
            "[%] File Downloaded !\n",
            "\n",
            "[%] Downloading Image #27 from https://res.cloudinary.com/bloomnation/c_pad,d_vendor:global:catalog:product:image.png,f_auto,fl_preserve_transparency,q_auto/v1579502899/vendor/1519/catalog/product/2/0/20180128065459_file_5a6d73c35f1f2.jpg\n",
            "[%] File Downloaded !\n",
            "\n",
            "[%] Downloading Image #28 from https://www.countryandtownhouse.co.uk/wp-content/uploads/2017/02/True-Love-Bouquet.jpg\n",
            "[%] File Downloaded !\n",
            "\n",
            "\n",
            "\n",
            "[!!]Indexing page: 2\n",
            "\n",
            "[%] Indexed 35 Images on Page 2.\n",
            "\n",
            "===============================================\n",
            "\n",
            "[%] Downloading Image #29 from https://altmanplants.com/wp-content/uploads/True-Gratitude-1.jpg\n",
            "[%] File Downloaded !\n",
            "\n",
            "[%] Downloading Image #30 from https://res.cloudinary.com/bloomnation/c_pad,d_vendor:global:catalog:product:image.png,f_auto,fl_preserve_transparency,q_auto/v1582065462/vendor/2961/catalog/product/2/0/20150124123713_file_54c391f9051a6.jpg\n",
            "[%] File Downloaded !\n",
            "\n",
            "\n",
            "\n",
            "[%] Done. Downloaded 30 images.\n",
            "===============================================\n",
            "\n",
            "Please show your support here\n",
            "https://www.buymeacoffee.com/gurugaurav\n",
            "\n",
            "===============================================\n",
            "\n",
            "time: 5.16 s (started: 2021-06-19 05:38:08 +00:00)\n"
          ],
          "name": "stdout"
        }
      ]
    },
    {
      "cell_type": "code",
      "metadata": {
        "colab": {
          "base_uri": "https://localhost:8080/"
        },
        "id": "2Ci65Zbowvig",
        "outputId": "07c5e1bb-c086-47a8-af50-4a1faad53656"
      },
      "source": [
        "from bing_image_downloader import downloader\n",
        "downloader.download(\"dog\", limit=30,output_dir='images',\n",
        "                    adult_filter_off= True)"
      ],
      "execution_count": 5,
      "outputs": [
        {
          "output_type": "stream",
          "text": [
            "[%] Downloading Images to /content/images/dog\n",
            "\n",
            "\n",
            "[!!]Indexing page: 1\n",
            "\n",
            "[%] Indexed 30 Images on Page 1.\n",
            "\n",
            "===============================================\n",
            "\n",
            "[%] Downloading Image #1 from https://cdn.newsapi.com.au/image/v1/098fe707e818d4d04deb0e27af7186bd?width=650\n",
            "[%] File Downloaded !\n",
            "\n",
            "[%] Downloading Image #2 from http://schoolmum.net/wp-content/uploads/2016/12/RedDog-TrueBlue-FULL.jpg\n",
            "[%] File Downloaded !\n",
            "\n",
            "[%] Downloading Image #3 from https://i.ytimg.com/vi/Pc1ms7EG7UE/maxresdefault.jpg\n",
            "[%] File Downloaded !\n",
            "\n",
            "[%] Downloading Image #4 from https://static.ffx.io/images/$width_620%2C$height_414/t_crop_fill/q_86%2Cf_auto/t_theage_no_label_social_wm/l_text:PT Sans_41_bold_italic: from %2Cg_south_west%2Cy_84%2Cx_384%2Cco_rgb:0a1633/l_text:PT Sans_41_bold:  %2Cg_south_west%2Cy_90%2Cx_471%2Cco_rgb:0a1633/l_text:AbrilTitling-Bold.ttf_83: 2012 %2Cg_south_west%2Cy_15%2Cx_370%2Cco_rgb:0a1633/c948ee51fe003a1416ba1fd5de5d5fcf23452d74\n",
            "[!] Issue getting: https://static.ffx.io/images/$width_620%2C$height_414/t_crop_fill/q_86%2Cf_auto/t_theage_no_label_social_wm/l_text:PT Sans_41_bold_italic: from %2Cg_south_west%2Cy_84%2Cx_384%2Cco_rgb:0a1633/l_text:PT Sans_41_bold:  %2Cg_south_west%2Cy_90%2Cx_471%2Cco_rgb:0a1633/l_text:AbrilTitling-Bold.ttf_83: 2012 %2Cg_south_west%2Cy_15%2Cx_370%2Cco_rgb:0a1633/c948ee51fe003a1416ba1fd5de5d5fcf23452d74\n",
            "[!] Error:: URL can't contain control characters. '/images/$width_620%2C$height_414/t_crop_fill/q_86%2Cf_auto/t_theage_no_label_social_wm/l_text:PT Sans_41_bold_italic: from %2Cg_south_west%2Cy_84%2Cx_384%2Cco_rgb:0a1633/l_text:PT Sans_41_bold:  %2Cg_south_west%2Cy_90%2Cx_471%2Cco_rgb:0a1633/l_text:AbrilTitling-Bold.ttf_83: 2012 %2Cg_south_west%2Cy_15%2Cx_370%2Cco_rgb:0a1633/c948ee51fe003a1416ba1fd5de5d5fcf23452d74' (found at least ' ')\n",
            "[%] Downloading Image #4 from https://stack.com.au/wp-content/uploads/2016/09/Red_Dog_True_Blue.jpg\n",
            "[%] File Downloaded !\n",
            "\n",
            "[%] Downloading Image #5 from https://i.ytimg.com/vi/34yF2odGSTw/maxresdefault.jpg\n",
            "[%] File Downloaded !\n",
            "\n",
            "[%] Downloading Image #6 from https://i.ytimg.com/vi/cwNXkxemx5k/maxresdefault.jpg\n",
            "[%] File Downloaded !\n",
            "\n",
            "[%] Downloading Image #7 from https://i.pinimg.com/originals/30/29/bf/3029bf77283796e996d5f2bdeaaf5ef7.jpg\n",
            "[%] File Downloaded !\n",
            "\n",
            "[%] Downloading Image #8 from https://assets.mubicdn.net/images/film/155689/image-w856.jpg?1471008654\n",
            "[%] File Downloaded !\n",
            "\n",
            "[%] Downloading Image #9 from https://www.shanethegamer.com/wp-content/uploads/2016/12/Red-Dog-True-Blue.jpg\n",
            "[%] File Downloaded !\n",
            "\n",
            "[%] Downloading Image #10 from https://ih1.redbubble.net/image.92734969.6503/flat,1000x1000,075,f.u1.jpg\n",
            "[%] File Downloaded !\n",
            "\n",
            "[%] Downloading Image #11 from https://cdn.newsapi.com.au/image/v1/3e1b4219001485d0a27bf0e3e53c4e33?width=1024\n",
            "[%] File Downloaded !\n",
            "\n",
            "[%] Downloading Image #12 from http://villemagazine.com/images/easyblog_articles/257/b2ap3_large_true-dog-parent.jpg\n",
            "[%] File Downloaded !\n",
            "\n",
            "[%] Downloading Image #13 from https://www.reddogwa.com/yahoo_site_admin/assets/images/red-dog--true-blue-2016-large-cover.169221152_large.jpg\n",
            "[%] File Downloaded !\n",
            "\n",
            "[%] Downloading Image #14 from http://image.tmdb.org/t/p/original/ynVc8dxrWUuVguEtdCmmBpBDyXD.jpg\n",
            "[%] File Downloaded !\n",
            "\n",
            "[%] Downloading Image #15 from http://www.thebookthefilmthetshirt.co.uk/wp-content/uploads/2016/09/FeatureRed-Dog-True-Blue.gif\n",
            "[%] File Downloaded !\n",
            "\n",
            "[%] Downloading Image #16 from https://i.ytimg.com/vi/PJF4agXix14/maxresdefault.jpg\n",
            "[%] File Downloaded !\n",
            "\n",
            "[%] Downloading Image #17 from http://cdn.newsapi.com.au/image/v1/8c230ad6c5cb97f6d23cef76930afadf\n",
            "[%] File Downloaded !\n",
            "\n",
            "[%] Downloading Image #18 from https://i.pinimg.com/736x/47/c7/63/47c7632aa28132d90e150805df317cf8--true-beauty-dog-lovers.jpg\n",
            "[%] File Downloaded !\n",
            "\n",
            "[%] Downloading Image #19 from https://i.ytimg.com/vi/xKMA2vduCeg/maxresdefault.jpg\n",
            "[%] File Downloaded !\n",
            "\n",
            "[%] Downloading Image #20 from https://cps-static.rovicorp.com/2/Open/Roadshow_Entertainment_2116/Program/30788783/_3by4/_derived_jpg_q90_600x800_m0/Blue Dog_17266.jpg?partner=allmovie_soap\n",
            "[!] Issue getting: https://cps-static.rovicorp.com/2/Open/Roadshow_Entertainment_2116/Program/30788783/_3by4/_derived_jpg_q90_600x800_m0/Blue Dog_17266.jpg?partner=allmovie_soap\n",
            "[!] Error:: URL can't contain control characters. '/2/Open/Roadshow_Entertainment_2116/Program/30788783/_3by4/_derived_jpg_q90_600x800_m0/Blue Dog_17266.jpg?partner=allmovie_soap' (found at least ' ')\n",
            "[%] Downloading Image #20 from https://www.dogshaming.com/wp-content/uploads/2014/06/image.jpg\n",
            "[%] File Downloaded !\n",
            "\n",
            "[%] Downloading Image #21 from https://mydoglikes.com/wp-content/uploads/2017/01/Grain-Free-Dog-Food.jpg\n",
            "[%] File Downloaded !\n",
            "\n",
            "[%] Downloading Image #22 from https://www.annmarieackermann.com/wp-content/uploads/2015/10/Frank-cropped.jpg\n",
            "[%] File Downloaded !\n",
            "\n",
            "[%] Downloading Image #23 from http://www.shedoesthecity.com/wp-content/uploads/files/2013/05/marshall-1.jpg\n",
            "[%] File Downloaded !\n",
            "\n",
            "[%] Downloading Image #24 from https://img.women.com/images/images/000/113/751/large/Untitled_2.png?1508748247\n",
            "[%] File Downloaded !\n",
            "\n",
            "[%] Downloading Image #25 from https://mydoglikes.com/wp-content/uploads/2017/10/True-Chews-Dog-Treats.jpg\n",
            "[%] File Downloaded !\n",
            "\n",
            "[%] Downloading Image #26 from https://www.fetchpetcare.com/wp-content/uploads/2016/11/bonus-ramen-noodle-poodle.jpg\n",
            "[%] File Downloaded !\n",
            "\n",
            "[%] Downloading Image #27 from https://www.pets4homes.co.uk/images/classifieds/2017/07/07/1642886/large/true-tiny-pomeranian-stud-dog-not-for-sale-595fa6f898815.jpg\n",
            "[%] File Downloaded !\n",
            "\n",
            "[%] Downloading Image #28 from https://cdn.newsapi.com.au/image/v1/18c36f93503787a9c74ddb367c348fcf\n",
            "[%] File Downloaded !\n",
            "\n",
            "\n",
            "\n",
            "[!!]Indexing page: 2\n",
            "\n",
            "[%] Indexed 35 Images on Page 2.\n",
            "\n",
            "===============================================\n",
            "\n",
            "[%] Downloading Image #29 from https://cdn.newsapi.com.au/image/v1/098fe707e818d4d04deb0e27af7186bd?width=650\n",
            "[%] File Downloaded !\n",
            "\n",
            "[%] Downloading Image #30 from http://schoolmum.net/wp-content/uploads/2016/12/RedDog-TrueBlue-FULL.jpg\n",
            "[%] File Downloaded !\n",
            "\n",
            "\n",
            "\n",
            "[%] Done. Downloaded 30 images.\n",
            "===============================================\n",
            "\n",
            "Please show your support here\n",
            "https://www.buymeacoffee.com/gurugaurav\n",
            "\n",
            "===============================================\n",
            "\n",
            "time: 8.76 s (started: 2021-06-19 05:38:13 +00:00)\n"
          ],
          "name": "stdout"
        }
      ]
    },
    {
      "cell_type": "code",
      "metadata": {
        "colab": {
          "base_uri": "https://localhost:8080/"
        },
        "id": "2yJVWbiNwyr2",
        "outputId": "1d7c943a-7bac-4db8-b08c-4113003d6bd3"
      },
      "source": [
        "from bing_image_downloader import downloader\n",
        "downloader.download(\"motorcycle\", limit=30,output_dir='images',\n",
        "                    adult_filter_off= True)"
      ],
      "execution_count": 6,
      "outputs": [
        {
          "output_type": "stream",
          "text": [
            "[%] Downloading Images to /content/images/motorcycle\n",
            "\n",
            "\n",
            "[!!]Indexing page: 1\n",
            "\n",
            "[%] Indexed 30 Images on Page 1.\n",
            "\n",
            "===============================================\n",
            "\n",
            "[%] Downloading Image #1 from https://i.pinimg.com/originals/00/6b/8c/006b8c48b868d930eedf3cb04f2fed59.jpg\n",
            "[%] File Downloaded !\n",
            "\n",
            "[%] Downloading Image #2 from http://images1.revzilla.com/product_images/0063/3081/rinehart_by_bub20092013_xtreme_true_duals_chrome_with_chrome_end_caps4_mufflers.jpg\n",
            "[%] File Downloaded !\n",
            "\n",
            "[%] Downloading Image #3 from https://uploads.tapatalk-cdn.com/20201031/7978c3d16127bebd58d7ff5bf808012a.jpg\n",
            "[%] File Downloaded !\n",
            "\n",
            "[%] Downloading Image #4 from https://yt3.ggpht.com/a/AATXAJy3C2ddP87YyFUQw9BJMNFRehHiuBQd_1jgmux-RQ=s900-c-k-c0xffffffff-no-rj-mo\n",
            "[%] File Downloaded !\n",
            "\n",
            "[%] Downloading Image #5 from https://i.pinimg.com/originals/d2/f3/88/d2f388798c7d18f3a9d99bdded416778.jpg\n",
            "[%] File Downloaded !\n",
            "\n",
            "[%] Downloading Image #6 from https://i.pinimg.com/originals/6c/19/59/6c1959695987a21666a31184249c6616.png\n",
            "[%] File Downloaded !\n",
            "\n",
            "[%] Downloading Image #7 from http://clementcycling.com/wp-content/uploads/2018/11/15-Motorcycles-with-Ridiculous-Paint-Job.jpg\n",
            "[%] File Downloaded !\n",
            "\n",
            "[%] Downloading Image #8 from https://blog.motorcycle.com/wp-content/uploads/2018/03/032318-True-American-Heroes-Weekend-XSR700.jpg\n",
            "[%] File Downloaded !\n",
            "\n",
            "[%] Downloading Image #9 from https://i.pinimg.com/originals/3c/7c/37/3c7c3789a297df5c18b63b3293e05614.jpg\n",
            "[%] File Downloaded !\n",
            "\n",
            "[%] Downloading Image #10 from https://i.pinimg.com/originals/35/f0/06/35f0065953753741d3ff40c177031e56.jpg\n",
            "[%] File Downloaded !\n",
            "\n",
            "[%] Downloading Image #11 from https://www.denniskirk.com/dk/product_images/oe/1200pix/oep4410495_589a98f1b6d875c2129109d32d5f195451e2aa8d.jpg\n",
            "[%] File Downloaded !\n",
            "\n",
            "[%] Downloading Image #12 from https://cimg2.ibsrv.net/cimg/www.hdforums.com/2000x2000_85-1/610/Harley-Rider-01-140610.jpg\n",
            "[%] File Downloaded !\n",
            "\n",
            "[%] Downloading Image #13 from https://i.pinimg.com/originals/da/bf/83/dabf839c4fcd22bf3717192fcadd967f.jpg\n",
            "[%] File Downloaded !\n",
            "\n",
            "[%] Downloading Image #14 from https://cdn.dealeraccelerate.com/amtc/2/7398/218484/1920x1440/2006-asve-chopper\n",
            "[Error]Invalid image, not saving https://cdn.dealeraccelerate.com/amtc/2/7398/218484/1920x1440/2006-asve-chopper\n",
            "\n",
            "[!] Issue getting: https://cdn.dealeraccelerate.com/amtc/2/7398/218484/1920x1440/2006-asve-chopper\n",
            "[!] Error:: Invalid image, not saving https://cdn.dealeraccelerate.com/amtc/2/7398/218484/1920x1440/2006-asve-chopper\n",
            "\n",
            "[%] Downloading Image #14 from https://blog.motorcycle.com/wp-content/uploads/2016/04/42616-true-america-heros-weekend.jpg\n",
            "[%] File Downloaded !\n",
            "\n",
            "[%] Downloading Image #15 from https://i.pinimg.com/originals/af/95/ba/af95ba6c831aa19dff282a44b993967a.jpg\n",
            "[%] File Downloaded !\n",
            "\n",
            "[%] Downloading Image #16 from https://rideexpeditions.com/wp-content/uploads/2016/10/CC23.jpg\n",
            "[%] File Downloaded !\n",
            "\n",
            "[%] Downloading Image #17 from http://pm1.narvii.com/7447/ddae9b351979f039449558ed0537deaf361debb1r1-720-717v2_uhq.jpg\n",
            "[%] File Downloaded !\n",
            "\n",
            "[%] Downloading Image #18 from https://i.pinimg.com/originals/c0/3c/27/c03c277bbd8be49a4eef56e67217ba88.jpg\n",
            "[%] File Downloaded !\n",
            "\n",
            "[%] Downloading Image #19 from https://i.pinimg.com/originals/71/36/b0/7136b070727641058440d547342a9915.jpg\n",
            "[%] File Downloaded !\n",
            "\n",
            "[%] Downloading Image #20 from https://i.pinimg.com/originals/a4/63/73/a46373ae65f56c037cf2396f2b7b311e.jpg\n",
            "[%] File Downloaded !\n",
            "\n",
            "[%] Downloading Image #21 from https://i.ebayimg.com/00/s/NDY3WDcwMA==/z/qGUAAOSwq9NZu~hV/$_57.JPG?set_id=8800005007\n",
            "[%] File Downloaded !\n",
            "\n",
            "[%] Downloading Image #22 from https://www.dirtywheel.com/uploads/video/2018/07/01/hq/h_5b42959320dfd.jpg\n",
            "[%] File Downloaded !\n",
            "\n",
            "[%] Downloading Image #23 from https://ridersrecycle.com/blog/wp-content/uploads/2012/06/rt3.jpg\n",
            "[%] File Downloaded !\n",
            "\n",
            "[%] Downloading Image #24 from https://www.motorcycletunes.com/prodimages/02 Harley Fatboy/009.JPG\n",
            "[!] Issue getting: https://www.motorcycletunes.com/prodimages/02 Harley Fatboy/009.JPG\n",
            "[!] Error:: URL can't contain control characters. '/prodimages/02 Harley Fatboy/009.JPG' (found at least ' ')\n",
            "[%] Downloading Image #24 from http://www.roadrunner.travel/wp/wp-content/uploads/Velo1-772x603.jpg\n",
            "[%] File Downloaded !\n",
            "\n",
            "[%] Downloading Image #25 from https://customdigital.com.au/wp-content/uploads/2018/11/True-Blue-Motorbike-Graphics-Custom-Digital_0003_6-copy.jpg\n",
            "[%] File Downloaded !\n",
            "\n",
            "[%] Downloading Image #26 from https://i.pinimg.com/originals/10/10/e0/1010e08fa4b43347c2aaa4491a4d3157.jpg\n",
            "[%] File Downloaded !\n",
            "\n",
            "[%] Downloading Image #27 from https://cdn.acidcow.com/pics/20160307/lm847_maserati_02.jpg\n",
            "[%] File Downloaded !\n",
            "\n",
            "[%] Downloading Image #28 from https://i.ebayimg.com/images/i/391372155029-0-1/s-l1000.jpg\n",
            "[%] File Downloaded !\n",
            "\n",
            "\n",
            "\n",
            "[!!]Indexing page: 2\n",
            "\n",
            "[%] Indexed 35 Images on Page 2.\n",
            "\n",
            "===============================================\n",
            "\n",
            "[%] Downloading Image #29 from https://i.pinimg.com/originals/00/6b/8c/006b8c48b868d930eedf3cb04f2fed59.jpg\n",
            "[%] File Downloaded !\n",
            "\n",
            "[%] Downloading Image #30 from http://images1.revzilla.com/product_images/0063/3081/rinehart_by_bub20092013_xtreme_true_duals_chrome_with_chrome_end_caps4_mufflers.jpg\n",
            "[%] File Downloaded !\n",
            "\n",
            "\n",
            "\n",
            "[%] Done. Downloaded 30 images.\n",
            "===============================================\n",
            "\n",
            "Please show your support here\n",
            "https://www.buymeacoffee.com/gurugaurav\n",
            "\n",
            "===============================================\n",
            "\n",
            "time: 7.9 s (started: 2021-06-19 05:38:22 +00:00)\n"
          ],
          "name": "stdout"
        }
      ]
    },
    {
      "cell_type": "code",
      "metadata": {
        "colab": {
          "base_uri": "https://localhost:8080/"
        },
        "id": "EMR8PPxsw2nV",
        "outputId": "48c90fc2-f077-476c-d352-d6cce356ecdb"
      },
      "source": [
        "import os\n",
        "import matplotlib.pyplot as plt\n",
        "import numpy as np\n",
        "from skimage.io import imread\n",
        "from skimage.transform import resize\n",
        "\n",
        "target= []\n",
        "images= []\n",
        "flat_data = []\n",
        "\n",
        "DATADIR = '/content/images'\n",
        "CATEGORIES = ['roses','dog','motorcycle']\n",
        "\n",
        "for category in CATEGORIES:\n",
        "    class_num= CATEGORIES.index(category)\n",
        "    path = os.path.join(DATADIR,category)\n",
        "    for img in os.listdir(path):\n",
        "       img_array = imread(os.path.join(path,img))\n",
        "       #print(img_array.shape)\n",
        "       #plt.imshow(img_array)\n",
        "       img_resized= resize(img_array,(150,150,3))\n",
        "       flat_data.append(img_resized.flatten())\n",
        "       images.append(img_resized)\n",
        "       target.append(class_num)\n",
        "flat_data = np.array(flat_data)\n",
        "target = np.array(target)\n",
        "images=np.array(images)\n"
      ],
      "execution_count": 7,
      "outputs": [
        {
          "output_type": "stream",
          "text": [
            "time: 43.1 s (started: 2021-06-19 05:38:34 +00:00)\n"
          ],
          "name": "stdout"
        }
      ]
    },
    {
      "cell_type": "code",
      "metadata": {
        "colab": {
          "base_uri": "https://localhost:8080/"
        },
        "id": "fjq9Sy30xA4I",
        "outputId": "76a57aac-035c-41d5-9b71-1fcc5a003cf1"
      },
      "source": [
        "flat_data"
      ],
      "execution_count": 8,
      "outputs": [
        {
          "output_type": "execute_result",
          "data": {
            "text/plain": [
              "array([[0.99607843, 0.99607843, 0.99607843, ..., 0.99607843, 0.99607843,\n",
              "        0.99607843],\n",
              "       [0.42529333, 0.56654745, 0.57909725, ..., 0.8627451 , 0.83921569,\n",
              "        0.86631373],\n",
              "       [0.08901961, 0.14188453, 0.        , ..., 0.        , 0.01568627,\n",
              "        0.        ],\n",
              "       ...,\n",
              "       [0.50588235, 0.36470588, 0.30130719, ..., 0.5627451 , 0.49607843,\n",
              "        0.48104575],\n",
              "       [1.        , 1.        , 1.        , ..., 1.        , 1.        ,\n",
              "        1.        ],\n",
              "       [0.52614379, 0.48464052, 0.48104575, ..., 0.76732026, 0.71797386,\n",
              "        0.65522876]])"
            ]
          },
          "metadata": {
            "tags": []
          },
          "execution_count": 8
        },
        {
          "output_type": "stream",
          "text": [
            "time: 6.48 ms (started: 2021-06-19 05:39:36 +00:00)\n"
          ],
          "name": "stdout"
        }
      ]
    },
    {
      "cell_type": "code",
      "metadata": {
        "colab": {
          "base_uri": "https://localhost:8080/"
        },
        "id": "lBR3EtgaxDmc",
        "outputId": "ec04613c-886d-4262-d509-845779749691"
      },
      "source": [
        "flat_data[0]"
      ],
      "execution_count": 9,
      "outputs": [
        {
          "output_type": "execute_result",
          "data": {
            "text/plain": [
              "array([0.99607843, 0.99607843, 0.99607843, ..., 0.99607843, 0.99607843,\n",
              "       0.99607843])"
            ]
          },
          "metadata": {
            "tags": []
          },
          "execution_count": 9
        },
        {
          "output_type": "stream",
          "text": [
            "time: 5.72 ms (started: 2021-06-19 05:39:40 +00:00)\n"
          ],
          "name": "stdout"
        }
      ]
    },
    {
      "cell_type": "code",
      "metadata": {
        "colab": {
          "base_uri": "https://localhost:8080/"
        },
        "id": "3N3UJ0GoxFiQ",
        "outputId": "647121f9-35da-4bec-d115-0c836c597761"
      },
      "source": [
        "target"
      ],
      "execution_count": 10,
      "outputs": [
        {
          "output_type": "execute_result",
          "data": {
            "text/plain": [
              "array([0, 0, 0, 0, 0, 0, 0, 0, 0, 0, 0, 0, 0, 0, 0, 0, 0, 0, 0, 0, 0, 0,\n",
              "       0, 0, 0, 0, 0, 0, 0, 0, 1, 1, 1, 1, 1, 1, 1, 1, 1, 1, 1, 1, 1, 1,\n",
              "       1, 1, 1, 1, 1, 1, 1, 1, 1, 1, 1, 1, 1, 1, 1, 1, 2, 2, 2, 2, 2, 2,\n",
              "       2, 2, 2, 2, 2, 2, 2, 2, 2, 2, 2, 2, 2, 2, 2, 2, 2, 2, 2, 2, 2, 2,\n",
              "       2, 2])"
            ]
          },
          "metadata": {
            "tags": []
          },
          "execution_count": 10
        },
        {
          "output_type": "stream",
          "text": [
            "time: 3.85 ms (started: 2021-06-19 05:39:44 +00:00)\n"
          ],
          "name": "stdout"
        }
      ]
    },
    {
      "cell_type": "code",
      "metadata": {
        "colab": {
          "base_uri": "https://localhost:8080/",
          "height": 298
        },
        "id": "4eAAgaJ-xHzl",
        "outputId": "0bef2656-39d0-44d5-b299-bf5ec28b8952"
      },
      "source": [
        "unique,count = np.unique(target,return_counts=True)\n",
        "plt.bar(CATEGORIES , count)"
      ],
      "execution_count": 11,
      "outputs": [
        {
          "output_type": "execute_result",
          "data": {
            "text/plain": [
              "<BarContainer object of 3 artists>"
            ]
          },
          "metadata": {
            "tags": []
          },
          "execution_count": 11
        },
        {
          "output_type": "display_data",
          "data": {
            "image/png": "[encoded data removed]",
            "text/plain": [
              "<Figure size 432x288 with 1 Axes>"
            ]
          },
          "metadata": {
            "tags": [],
            "needs_background": "light"
          }
        },
        {
          "output_type": "stream",
          "text": [
            "time: 143 ms (started: 2021-06-19 05:39:55 +00:00)\n"
          ],
          "name": "stdout"
        }
      ]
    },
    {
      "cell_type": "code",
      "metadata": {
        "colab": {
          "base_uri": "https://localhost:8080/"
        },
        "id": "EFj-h7PvxJvE",
        "outputId": "9d8ff262-49d4-4650-d395-a5321ed42c23"
      },
      "source": [
        "#split data into training and testing \n",
        "from sklearn.model_selection import train_test_split\n",
        "x_train,x_test,y_train,y_test = train_test_split(flat_data, target,\n",
        "                                                 test_size=0.3,random_state=109)"
      ],
      "execution_count": 12,
      "outputs": [
        {
          "output_type": "stream",
          "text": [
            "time: 165 ms (started: 2021-06-19 05:41:31 +00:00)\n"
          ],
          "name": "stdout"
        }
      ]
    },
    {
      "cell_type": "code",
      "metadata": {
        "colab": {
          "base_uri": "https://localhost:8080/"
        },
        "id": "HI5Qt2_JxMy3",
        "outputId": "d61fadc1-f29e-4ea5-b904-673b6e142e55"
      },
      "source": [
        "from sklearn.model_selection import GridSearchCV\n",
        "from sklearn import svm\n",
        "param_grid = [\n",
        "              { 'C': [1,10,100,1000], 'kernel': ['linear']},\n",
        "              { 'C': [1,10,100,1000], 'gamma':[0.001,0.0001], 'kernel': ['rbf']},\n",
        "             ]\n",
        "svc = svm.SVC(probability= True)\n",
        "clf = GridSearchCV(svc,param_grid)\n",
        "clf.fit(x_train,y_train)"
      ],
      "execution_count": 13,
      "outputs": [
        {
          "output_type": "execute_result",
          "data": {
            "text/plain": [
              "GridSearchCV(cv=None, error_score=nan,\n",
              "             estimator=SVC(C=1.0, break_ties=False, cache_size=200,\n",
              "                           class_weight=None, coef0=0.0,\n",
              "                           decision_function_shape='ovr', degree=3,\n",
              "                           gamma='scale', kernel='rbf', max_iter=-1,\n",
              "                           probability=True, random_state=None, shrinking=True,\n",
              "                           tol=0.001, verbose=False),\n",
              "             iid='deprecated', n_jobs=None,\n",
              "             param_grid=[{'C': [1, 10, 100, 1000], 'kernel': ['linear']},\n",
              "                         {'C': [1, 10, 100, 1000], 'gamma': [0.001, 0.0001],\n",
              "                          'kernel': ['rbf']}],\n",
              "             pre_dispatch='2*n_jobs', refit=True, return_train_score=False,\n",
              "             scoring=None, verbose=0)"
            ]
          },
          "metadata": {
            "tags": []
          },
          "execution_count": 13
        },
        {
          "output_type": "stream",
          "text": [
            "time: 1min 46s (started: 2021-06-19 05:46:09 +00:00)\n"
          ],
          "name": "stdout"
        }
      ]
    },
    {
      "cell_type": "code",
      "metadata": {
        "colab": {
          "base_uri": "https://localhost:8080/"
        },
        "id": "NdJzOsu7xQmd",
        "outputId": "8d6a09f3-2275-498f-bd5d-c6f6bdae457c"
      },
      "source": [
        "y_pred = clf.predict(x_test)\n",
        "y_pred"
      ],
      "execution_count": 14,
      "outputs": [
        {
          "output_type": "execute_result",
          "data": {
            "text/plain": [
              "array([2, 2, 2, 2, 2, 1, 0, 1, 1, 2, 0, 0, 1, 2, 2, 1, 2, 1, 0, 1, 2, 2,\n",
              "       2, 0, 0, 0, 1])"
            ]
          },
          "metadata": {
            "tags": []
          },
          "execution_count": 14
        },
        {
          "output_type": "stream",
          "text": [
            "time: 167 ms (started: 2021-06-19 05:49:17 +00:00)\n"
          ],
          "name": "stdout"
        }
      ]
    },
    {
      "cell_type": "code",
      "metadata": {
        "colab": {
          "base_uri": "https://localhost:8080/"
        },
        "id": "TjFTLkpqxSmk",
        "outputId": "ca885422-521c-454f-ea9d-b081d9659764"
      },
      "source": [
        "y_test"
      ],
      "execution_count": 15,
      "outputs": [
        {
          "output_type": "execute_result",
          "data": {
            "text/plain": [
              "array([1, 0, 1, 2, 2, 1, 0, 1, 1, 0, 1, 0, 1, 2, 2, 1, 2, 1, 0, 1, 2, 2,\n",
              "       2, 0, 0, 0, 1])"
            ]
          },
          "metadata": {
            "tags": []
          },
          "execution_count": 15
        },
        {
          "output_type": "stream",
          "text": [
            "time: 7.29 ms (started: 2021-06-19 05:49:20 +00:00)\n"
          ],
          "name": "stdout"
        }
      ]
    },
    {
      "cell_type": "code",
      "metadata": {
        "colab": {
          "base_uri": "https://localhost:8080/"
        },
        "id": "HhfWtcgJxUsv",
        "outputId": "df7e4695-93ad-48d7-c09b-2f8cd665f4ce"
      },
      "source": [
        "from sklearn.metrics import accuracy_score , confusion_matrix"
      ],
      "execution_count": 16,
      "outputs": [
        {
          "output_type": "stream",
          "text": [
            "time: 1.16 ms (started: 2021-06-19 05:49:22 +00:00)\n"
          ],
          "name": "stdout"
        }
      ]
    },
    {
      "cell_type": "code",
      "metadata": {
        "colab": {
          "base_uri": "https://localhost:8080/"
        },
        "id": "QDA4G29ExWtD",
        "outputId": "6273d6ab-dc03-437b-a11a-ebf98a01c2fb"
      },
      "source": [
        "accuracy_score(y_pred,y_test)"
      ],
      "execution_count": 17,
      "outputs": [
        {
          "output_type": "execute_result",
          "data": {
            "text/plain": [
              "0.8148148148148148"
            ]
          },
          "metadata": {
            "tags": []
          },
          "execution_count": 17
        },
        {
          "output_type": "stream",
          "text": [
            "time: 4.23 ms (started: 2021-06-19 05:57:47 +00:00)\n"
          ],
          "name": "stdout"
        }
      ]
    },
    {
      "cell_type": "code",
      "metadata": {
        "colab": {
          "base_uri": "https://localhost:8080/"
        },
        "id": "zpSVnI0xxYz6",
        "outputId": "00fc000c-4340-4f9f-d6a7-1f2261b673b1"
      },
      "source": [
        "confusion_matrix(y_pred, y_test)"
      ],
      "execution_count": 18,
      "outputs": [
        {
          "output_type": "execute_result",
          "data": {
            "text/plain": [
              "array([[6, 1, 0],\n",
              "       [0, 8, 0],\n",
              "       [2, 2, 8]])"
            ]
          },
          "metadata": {
            "tags": []
          },
          "execution_count": 18
        },
        {
          "output_type": "stream",
          "text": [
            "time: 8.76 ms (started: 2021-06-19 05:57:53 +00:00)\n"
          ],
          "name": "stdout"
        }
      ]
    },
    {
      "cell_type": "code",
      "metadata": {
        "colab": {
          "base_uri": "https://localhost:8080/"
        },
        "id": "1M7PUQj-xacu",
        "outputId": "9ac12f72-c379-46ee-d60f-b5933c3988a0"
      },
      "source": [
        "#save the mode using pickle library\n",
        "import pickle\n",
        "pickle.dump(clf,open('img_model.p','wb'))\n"
      ],
      "execution_count": 19,
      "outputs": [
        {
          "output_type": "stream",
          "text": [
            "time: 38 ms (started: 2021-06-19 05:57:55 +00:00)\n"
          ],
          "name": "stdout"
        }
      ]
    },
    {
      "cell_type": "code",
      "metadata": {
        "colab": {
          "base_uri": "https://localhost:8080/"
        },
        "id": "qK7uCpT4xcEh",
        "outputId": "606e425e-978f-4703-f9f3-41cd9a7c93e3"
      },
      "source": [
        "model = pickle.load(open('img_model.p','rb'))"
      ],
      "execution_count": 20,
      "outputs": [
        {
          "output_type": "stream",
          "text": [
            "time: 19 ms (started: 2021-06-19 05:57:58 +00:00)\n"
          ],
          "name": "stdout"
        }
      ]
    },
    {
      "cell_type": "code",
      "metadata": {
        "colab": {
          "base_uri": "https://localhost:8080/",
          "height": 336
        },
        "id": "SI3tOGqOxd3B",
        "outputId": "7a29f2da-b66c-40f5-d89e-2051238f356b"
      },
      "source": [
        "flat_data = []\n",
        "url = input('enter your URL')\n",
        "img = imread(url)\n",
        "img_resized= resize(img,(150,150,3))\n",
        "flat_data.append(img_resized.flatten())\n",
        "flat_data = np.array(flat_data)\n",
        "print(img.shape)\n",
        "plt.imshow(img_resized)\n",
        "y_out = model.predict(flat_data)\n",
        "y_out = CATEGORIES[y_out[0]]\n",
        "print(f'  PREDICTED OUTPUT:{y_out}')"
      ],
      "execution_count": 21,
      "outputs": [
        {
          "output_type": "stream",
          "text": [
            "enter your URLhttps://hips.hearstapps.com/hmg-prod.s3.amazonaws.com/images/dog-puppy-on-garden-royalty-free-image-1586966191.jpg?crop=1.00xw:0.669xh;0,0.190xh&resize=1200:*\n",
            "(602, 1200, 3)\n",
            "  PREDICTED OUTPUT:dog\n"
          ],
          "name": "stdout"
        },
        {
          "output_type": "display_data",
          "data": {
            "image/png": "[encoded data removed]",
            "text/plain": [
              "<Figure size 432x288 with 1 Axes>"
            ]
          },
          "metadata": {
            "tags": [],
            "needs_background": "light"
          }
        },
        {
          "output_type": "stream",
          "text": [
            "time: 9min 24s (started: 2021-06-19 05:58:01 +00:00)\n"
          ],
          "name": "stdout"
        }
      ]
    }
  ]
}